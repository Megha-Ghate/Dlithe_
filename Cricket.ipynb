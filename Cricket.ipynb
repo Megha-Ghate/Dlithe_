{
  "nbformat": 4,
  "nbformat_minor": 0,
  "metadata": {
    "colab": {
      "name": "Cricket.ipynb",
      "provenance": [],
      "collapsed_sections": []
    },
    "kernelspec": {
      "name": "python3",
      "display_name": "Python 3"
    },
    "language_info": {
      "name": "python"
    }
  },
  "cells": [
    {
      "cell_type": "markdown",
      "metadata": {
        "id": "BfNI32aixJmb"
      },
      "source": [
        ""
      ]
    },
    {
      "cell_type": "code",
      "metadata": {
        "id": "1Rjl0Z3ws5Zu"
      },
      "source": [
        "import numpy as np\n",
        "import pandas as pd"
      ],
      "execution_count": null,
      "outputs": []
    },
    {
      "cell_type": "code",
      "metadata": {
        "colab": {
          "base_uri": "https://localhost:8080/",
          "height": 311
        },
        "id": "E7R6W_xGua2J",
        "outputId": "63580064-1301-4487-c37b-fbb5f1268535"
      },
      "source": [
        "cric_data = np.loadtxt(\"cric_data.tsv\")"
      ],
      "execution_count": null,
      "outputs": [
        {
          "output_type": "error",
          "ename": "ValueError",
          "evalue": "ignored",
          "traceback": [
            "\u001b[0;31m---------------------------------------------------------------------------\u001b[0m",
            "\u001b[0;31mValueError\u001b[0m                                Traceback (most recent call last)",
            "\u001b[0;32m<ipython-input-2-15669b10a515>\u001b[0m in \u001b[0;36m<module>\u001b[0;34m()\u001b[0m\n\u001b[0;32m----> 1\u001b[0;31m \u001b[0mcric_data\u001b[0m \u001b[0;34m=\u001b[0m \u001b[0mnp\u001b[0m\u001b[0;34m.\u001b[0m\u001b[0mloadtxt\u001b[0m\u001b[0;34m(\u001b[0m\u001b[0;34m\"cric_data.tsv\"\u001b[0m\u001b[0;34m)\u001b[0m\u001b[0;34m\u001b[0m\u001b[0;34m\u001b[0m\u001b[0m\n\u001b[0m",
            "\u001b[0;32m/usr/local/lib/python3.7/dist-packages/numpy/lib/npyio.py\u001b[0m in \u001b[0;36mloadtxt\u001b[0;34m(fname, dtype, comments, delimiter, converters, skiprows, usecols, unpack, ndmin, encoding, max_rows)\u001b[0m\n\u001b[1;32m   1137\u001b[0m         \u001b[0;31m# converting the data\u001b[0m\u001b[0;34m\u001b[0m\u001b[0;34m\u001b[0m\u001b[0;34m\u001b[0m\u001b[0m\n\u001b[1;32m   1138\u001b[0m         \u001b[0mX\u001b[0m \u001b[0;34m=\u001b[0m \u001b[0;32mNone\u001b[0m\u001b[0;34m\u001b[0m\u001b[0;34m\u001b[0m\u001b[0m\n\u001b[0;32m-> 1139\u001b[0;31m         \u001b[0;32mfor\u001b[0m \u001b[0mx\u001b[0m \u001b[0;32min\u001b[0m \u001b[0mread_data\u001b[0m\u001b[0;34m(\u001b[0m\u001b[0m_loadtxt_chunksize\u001b[0m\u001b[0;34m)\u001b[0m\u001b[0;34m:\u001b[0m\u001b[0;34m\u001b[0m\u001b[0;34m\u001b[0m\u001b[0m\n\u001b[0m\u001b[1;32m   1140\u001b[0m             \u001b[0;32mif\u001b[0m \u001b[0mX\u001b[0m \u001b[0;32mis\u001b[0m \u001b[0;32mNone\u001b[0m\u001b[0;34m:\u001b[0m\u001b[0;34m\u001b[0m\u001b[0;34m\u001b[0m\u001b[0m\n\u001b[1;32m   1141\u001b[0m                 \u001b[0mX\u001b[0m \u001b[0;34m=\u001b[0m \u001b[0mnp\u001b[0m\u001b[0;34m.\u001b[0m\u001b[0marray\u001b[0m\u001b[0;34m(\u001b[0m\u001b[0mx\u001b[0m\u001b[0;34m,\u001b[0m \u001b[0mdtype\u001b[0m\u001b[0;34m)\u001b[0m\u001b[0;34m\u001b[0m\u001b[0;34m\u001b[0m\u001b[0m\n",
            "\u001b[0;32m/usr/local/lib/python3.7/dist-packages/numpy/lib/npyio.py\u001b[0m in \u001b[0;36mread_data\u001b[0;34m(chunk_size)\u001b[0m\n\u001b[1;32m   1065\u001b[0m \u001b[0;34m\u001b[0m\u001b[0m\n\u001b[1;32m   1066\u001b[0m             \u001b[0;31m# Convert each value according to its column and store\u001b[0m\u001b[0;34m\u001b[0m\u001b[0;34m\u001b[0m\u001b[0;34m\u001b[0m\u001b[0m\n\u001b[0;32m-> 1067\u001b[0;31m             \u001b[0mitems\u001b[0m \u001b[0;34m=\u001b[0m \u001b[0;34m[\u001b[0m\u001b[0mconv\u001b[0m\u001b[0;34m(\u001b[0m\u001b[0mval\u001b[0m\u001b[0;34m)\u001b[0m \u001b[0;32mfor\u001b[0m \u001b[0;34m(\u001b[0m\u001b[0mconv\u001b[0m\u001b[0;34m,\u001b[0m \u001b[0mval\u001b[0m\u001b[0;34m)\u001b[0m \u001b[0;32min\u001b[0m \u001b[0mzip\u001b[0m\u001b[0;34m(\u001b[0m\u001b[0mconverters\u001b[0m\u001b[0;34m,\u001b[0m \u001b[0mvals\u001b[0m\u001b[0;34m)\u001b[0m\u001b[0;34m]\u001b[0m\u001b[0;34m\u001b[0m\u001b[0;34m\u001b[0m\u001b[0m\n\u001b[0m\u001b[1;32m   1068\u001b[0m \u001b[0;34m\u001b[0m\u001b[0m\n\u001b[1;32m   1069\u001b[0m             \u001b[0;31m# Then pack it according to the dtype's nesting\u001b[0m\u001b[0;34m\u001b[0m\u001b[0;34m\u001b[0m\u001b[0;34m\u001b[0m\u001b[0m\n",
            "\u001b[0;32m/usr/local/lib/python3.7/dist-packages/numpy/lib/npyio.py\u001b[0m in \u001b[0;36m<listcomp>\u001b[0;34m(.0)\u001b[0m\n\u001b[1;32m   1065\u001b[0m \u001b[0;34m\u001b[0m\u001b[0m\n\u001b[1;32m   1066\u001b[0m             \u001b[0;31m# Convert each value according to its column and store\u001b[0m\u001b[0;34m\u001b[0m\u001b[0;34m\u001b[0m\u001b[0;34m\u001b[0m\u001b[0m\n\u001b[0;32m-> 1067\u001b[0;31m             \u001b[0mitems\u001b[0m \u001b[0;34m=\u001b[0m \u001b[0;34m[\u001b[0m\u001b[0mconv\u001b[0m\u001b[0;34m(\u001b[0m\u001b[0mval\u001b[0m\u001b[0;34m)\u001b[0m \u001b[0;32mfor\u001b[0m \u001b[0;34m(\u001b[0m\u001b[0mconv\u001b[0m\u001b[0;34m,\u001b[0m \u001b[0mval\u001b[0m\u001b[0;34m)\u001b[0m \u001b[0;32min\u001b[0m \u001b[0mzip\u001b[0m\u001b[0;34m(\u001b[0m\u001b[0mconverters\u001b[0m\u001b[0;34m,\u001b[0m \u001b[0mvals\u001b[0m\u001b[0;34m)\u001b[0m\u001b[0;34m]\u001b[0m\u001b[0;34m\u001b[0m\u001b[0;34m\u001b[0m\u001b[0m\n\u001b[0m\u001b[1;32m   1068\u001b[0m \u001b[0;34m\u001b[0m\u001b[0m\n\u001b[1;32m   1069\u001b[0m             \u001b[0;31m# Then pack it according to the dtype's nesting\u001b[0m\u001b[0;34m\u001b[0m\u001b[0;34m\u001b[0m\u001b[0;34m\u001b[0m\u001b[0m\n",
            "\u001b[0;32m/usr/local/lib/python3.7/dist-packages/numpy/lib/npyio.py\u001b[0m in \u001b[0;36mfloatconv\u001b[0;34m(x)\u001b[0m\n\u001b[1;32m    761\u001b[0m         \u001b[0;32mif\u001b[0m \u001b[0;34m'0x'\u001b[0m \u001b[0;32min\u001b[0m \u001b[0mx\u001b[0m\u001b[0;34m:\u001b[0m\u001b[0;34m\u001b[0m\u001b[0;34m\u001b[0m\u001b[0m\n\u001b[1;32m    762\u001b[0m             \u001b[0;32mreturn\u001b[0m \u001b[0mfloat\u001b[0m\u001b[0;34m.\u001b[0m\u001b[0mfromhex\u001b[0m\u001b[0;34m(\u001b[0m\u001b[0mx\u001b[0m\u001b[0;34m)\u001b[0m\u001b[0;34m\u001b[0m\u001b[0;34m\u001b[0m\u001b[0m\n\u001b[0;32m--> 763\u001b[0;31m         \u001b[0;32mreturn\u001b[0m \u001b[0mfloat\u001b[0m\u001b[0;34m(\u001b[0m\u001b[0mx\u001b[0m\u001b[0;34m)\u001b[0m\u001b[0;34m\u001b[0m\u001b[0;34m\u001b[0m\u001b[0m\n\u001b[0m\u001b[1;32m    764\u001b[0m \u001b[0;34m\u001b[0m\u001b[0m\n\u001b[1;32m    765\u001b[0m     \u001b[0mtyp\u001b[0m \u001b[0;34m=\u001b[0m \u001b[0mdtype\u001b[0m\u001b[0;34m.\u001b[0m\u001b[0mtype\u001b[0m\u001b[0;34m\u001b[0m\u001b[0;34m\u001b[0m\u001b[0m\n",
            "\u001b[0;31mValueError\u001b[0m: could not convert string to float: 'Sachin'"
          ]
        }
      ]
    },
    {
      "cell_type": "code",
      "metadata": {
        "colab": {
          "base_uri": "https://localhost:8080/"
        },
        "id": "7Fk-3bGhubYv",
        "outputId": "d24afa8e-b181-412a-987c-5ace2a658729"
      },
      "source": [
        "cric_data = np.loadtxt(\"cric_data.tsv\", skiprows=1)\n",
        "cric_data\n"
      ],
      "execution_count": null,
      "outputs": [
        {
          "output_type": "execute_result",
          "data": {
            "text/plain": [
              "array([[  0., 100.,  78., 342.],\n",
              "       [  1.,  11.,  62., 191.],\n",
              "       [  2.,   8.,  85., 252.],\n",
              "       [  3.,  71.,  24., 307.],\n",
              "       [  4., 104.,  17., 229.],\n",
              "       [  5.,  18., 104., 246.],\n",
              "       [  6.,   8.,  76., 226.],\n",
              "       [  7.,  86.,  74., 288.],\n",
              "       [  8.,  12.,  60., 216.],\n",
              "       [  9.,  85.,  12., 224.],\n",
              "       [ 10.,  18.,  63., 161.],\n",
              "       [ 11.,   4., 107., 276.],\n",
              "       [ 12.,   7.,  76., 283.],\n",
              "       [ 13.,  37.,   4., 297.],\n",
              "       [ 14.,  14.,   5., 139.],\n",
              "       [ 15.,   0.,  33., 224.],\n",
              "       [ 16.,   4.,   7., 178.],\n",
              "       [ 17.,   0.,   0.,   0.],\n",
              "       [ 18.,  21.,  36., 193.],\n",
              "       [ 19.,   1.,  66., 231.],\n",
              "       [ 20.,  62.,   0., 134.],\n",
              "       [ 21.,   0., 123., 246.],\n",
              "       [ 22., 138.,  39., 299.],\n",
              "       [ 23.,  38.,   9., 242.],\n",
              "       [ 24.,   2.,  11., 214.],\n",
              "       [ 25.,  46.,  14., 152.],\n",
              "       [ 26.,  65.,   0., 104.],\n",
              "       [ 27.,   0.,   0.,   4.],\n",
              "       [ 28.,  39.,  26., 155.],\n",
              "       [ 29.,  48.,   4., 168.],\n",
              "       [ 30., 141.,  48., 282.],\n",
              "       [ 31.,  62.,   7., 228.],\n",
              "       [ 32.,  12.,  73., 231.],\n",
              "       [ 33.,   1.,  86., 238.],\n",
              "       [ 34.,  41.,  32., 255.],\n",
              "       [ 35.,  11.,  82., 273.],\n",
              "       [ 36.,   3.,  25., 143.],\n",
              "       [ 37., 186., 153., 345.],\n",
              "       [ 38.,  11.,  26., 134.],\n",
              "       [ 39.,  27.,   1., 292.],\n",
              "       [ 40.,  27.,   6., 299.],\n",
              "       [ 41.,  51.,   3., 233.],\n",
              "       [ 42.,  18.,   1., 332.],\n",
              "       [ 43.,  32.,  39., 276.],\n",
              "       [ 44., 146.,  30., 264.],\n",
              "       [ 45.,   5.,  32., 213.],\n",
              "       [ 46.,  45.,  84., 224.],\n",
              "       [ 47., 141.,  36., 306.],\n",
              "       [ 48.,  12.,  31., 259.],\n",
              "       [ 49.,  65.,   0., 141.],\n",
              "       [ 50.,  27.,  47., 155.],\n",
              "       [ 51.,   7.,  13., 183.],\n",
              "       [ 52.,  16.,  49., 309.],\n",
              "       [ 53.,   2.,  28., 208.],\n",
              "       [ 54.,  28.,   0., 124.],\n",
              "       [ 55.,   6.,  28., 208.],\n",
              "       [ 56., 123.,  19., 305.],\n",
              "       [ 57., 120.,  13., 273.],\n",
              "       [ 58.,   7.,  14., 186.],\n",
              "       [ 59.,   3.,  11., 163.],\n",
              "       [ 60.,   0., 103., 239.],\n",
              "       [ 61.,  81.,  43., 274.],\n",
              "       [ 62.,   2.,   5., 182.],\n",
              "       [ 63.,  54.,   5., 256.],\n",
              "       [ 64., 122.,  15., 227.],\n",
              "       [ 65.,   4.,   0., 157.],\n",
              "       [ 66.,  14.,   5., 353.],\n",
              "       [ 67.,   0.,  30., 271.],\n",
              "       [ 68., 100.,   4., 211.],\n",
              "       [ 69.,  15.,  53., 141.],\n",
              "       [ 70.,   0.,  60., 243.],\n",
              "       [ 71.,  57.,   7., 499.],\n",
              "       [ 72.,  99.,  74., 229.],\n",
              "       [ 73.,  37.,  71., 234.],\n",
              "       [ 74.,  38.,  54., 259.],\n",
              "       [ 75.,  32.,  13., 242.],\n",
              "       [ 76.,  21.,  69., 223.],\n",
              "       [ 77.,  32.,  33., 184.],\n",
              "       [ 78.,  40.,  29., 125.],\n",
              "       [ 79.,   0.,   2., 195.],\n",
              "       [ 80.,   5.,   8., 154.],\n",
              "       [ 81.,   8.,  36., 142.],\n",
              "       [ 82.,   5.,  51., 197.],\n",
              "       [ 83.,   0.,   8., 213.],\n",
              "       [ 84.,  50.,  62., 256.],\n",
              "       [ 85.,  30.,   0., 197.],\n",
              "       [ 86.,  37.,  22., 177.],\n",
              "       [ 87.,  89.,  39., 167.],\n",
              "       [ 88.,   4., 104., 366.],\n",
              "       [ 89.,  98.,  44., 269.],\n",
              "       [ 90.,  83.,   1., 292.],\n",
              "       [ 91.,  93.,   2., 218.],\n",
              "       [ 92.,   0.,   0.,   0.],\n",
              "       [ 93.,  52.,  17., 199.],\n",
              "       [ 94., 152.,   0., 319.],\n",
              "       [ 95.,   1.,  14., 245.],\n",
              "       [ 96.,   8.,  62., 274.],\n",
              "       [ 97.,  93.,  15., 208.],\n",
              "       [ 98.,  45.,  68., 201.],\n",
              "       [ 99.,  26.,  17., 275.],\n",
              "       [100.,   0.,   0., 134.],\n",
              "       [101.,   1.,  22.,  68.],\n",
              "       [102.,   0.,  25., 149.],\n",
              "       [103.,  16.,  29., 216.],\n",
              "       [104.,  47.,  60., 407.],\n",
              "       [105.,  89.,  34., 302.],\n",
              "       [106.,   3.,  65., 197.],\n",
              "       [107.,   1.,   3., 222.],\n",
              "       [108.,  53.,   7., 224.],\n",
              "       [109.,  16.,  16., 321.],\n",
              "       [110.,   0.,   0.,   0.],\n",
              "       [111.,  81.,   4., 162.],\n",
              "       [112.,  14.,  53., 221.],\n",
              "       [113.,  78.,   5., 204.],\n",
              "       [114.,   6.,  23., 213.],\n",
              "       [115., 105.,  82., 286.],\n",
              "       [116., 122.,   3., 272.],\n",
              "       [117.,   9.,   0., 382.],\n",
              "       [118.,   8.,  20., 229.],\n",
              "       [119.,  28.,  21., 175.],\n",
              "       [120.,  35.,  80., 360.],\n",
              "       [121.,  69.,  22., 256.],\n",
              "       [122.,  13.,   8., 165.],\n",
              "       [123.,  97.,  18., 335.],\n",
              "       [124.,  93.,  24., 188.],\n",
              "       [125.,   2.,  50., 146.],\n",
              "       [126.,  36.,   1., 113.],\n",
              "       [127.,  39.,  42., 241.],\n",
              "       [128.,   2.,  61., 211.],\n",
              "       [129.,  29.,   0., 225.],\n",
              "       [130.,  12.,   6.,  35.],\n",
              "       [131.,  19.,  64., 163.],\n",
              "       [132.,  34.,   9., 200.],\n",
              "       [133.,   2.,  46., 176.],\n",
              "       [134., 100.,   0., 269.],\n",
              "       [135.,  44.,   0., 284.],\n",
              "       [136.,  82.,   0., 175.],\n",
              "       [137.,   0.,   0.,  27.],\n",
              "       [138.,  79.,  13., 282.],\n",
              "       [139.,   6.,   0., 141.],\n",
              "       [140.,   9.,  72., 229.],\n",
              "       [141.,   8.,  12., 213.],\n",
              "       [142.,  23.,  38., 205.],\n",
              "       [143.,  93.,  79., 279.],\n",
              "       [144.,  35.,  18.,  88.],\n",
              "       [145.,  63.,  16., 284.],\n",
              "       [146.,  74.,  16., 207.],\n",
              "       [147.,   8.,  56., 224.],\n",
              "       [148., 117.,  21., 204.],\n",
              "       [149.,  39.,  58., 280.],\n",
              "       [150.,  49.,   8., 197.],\n",
              "       [151.,  64.,   0., 205.],\n",
              "       [152.,  43.,   0., 230.],\n",
              "       [153.,  72.,   7., 323.],\n",
              "       [154.,   5.,  13., 209.],\n",
              "       [155.,  17.,  77., 210.],\n",
              "       [156.,   0.,  29., 162.],\n",
              "       [157.,  65.,  20., 272.],\n",
              "       [158.,  20.,  90., 251.],\n",
              "       [159., 141.,  26., 286.],\n",
              "       [160.,  28.,  54., 228.],\n",
              "       [161.,  44.,  17., 148.],\n",
              "       [162.,  27.,  78., 272.],\n",
              "       [163.,  60.,  57., 309.],\n",
              "       [164.,  68.,  59., 202.],\n",
              "       [165.,   3.,  10., 136.],\n",
              "       [166., 139.,  15., 281.],\n",
              "       [167.,  31.,  54., 314.],\n",
              "       [168.,   2.,  52., 419.],\n",
              "       [169.,  44.,   9., 229.],\n",
              "       [170.,  47.,   0., 133.],\n",
              "       [171.,   6.,  18., 228.],\n",
              "       [172.,  17.,   3., 143.],\n",
              "       [173.,  35.,   4., 116.],\n",
              "       [174.,  88.,   6., 194.],\n",
              "       [175., 114.,  16., 249.],\n",
              "       [176.,   7.,  71., 319.],\n",
              "       [177., 127.,  64., 205.],\n",
              "       [178.,   0.,   7., 191.],\n",
              "       [179.,  45.,  61., 213.],\n",
              "       [180.,  33.,   1., 104.],\n",
              "       [181., 110.,   7., 210.],\n",
              "       [182., 146.,   0., 392.],\n",
              "       [183.,   7.,   0.,  57.],\n",
              "       [184.,  25.,  26., 213.],\n",
              "       [185.,   9.,  19., 158.],\n",
              "       [186.,   2.,  63., 163.],\n",
              "       [187.,  11.,   3., 166.],\n",
              "       [188.,  17.,  46., 164.],\n",
              "       [189.,  14.,  31., 238.],\n",
              "       [190.,   1.,  12., 118.],\n",
              "       [191.,  45.,  49., 189.],\n",
              "       [192.,  94.,   4., 346.],\n",
              "       [193.,  28.,  99., 390.],\n",
              "       [194.,   4.,  47., 319.],\n",
              "       [195.,  62.,  56., 276.],\n",
              "       [196.,   1.,  73., 324.],\n",
              "       [197.,   9.,  74., 213.],\n",
              "       [198.,  67.,  31., 207.],\n",
              "       [199.,  10.,  29., 158.],\n",
              "       [200.,  99.,  92., 304.],\n",
              "       [201.,  55.,   1., 199.],\n",
              "       [202.,   0.,   0.,   0.],\n",
              "       [203.,   1.,  30., 195.],\n",
              "       [204., 101.,  16., 207.],\n",
              "       [205.,   2., 145., 352.],\n",
              "       [206.,   1.,  22., 225.],\n",
              "       [207.,  16.,  31., 236.],\n",
              "       [208., 140., 104., 301.],\n",
              "       [209.,  23.,  20., 136.],\n",
              "       [210., 113.,  13., 327.],\n",
              "       [211.,  10.,  52., 296.],\n",
              "       [212.,   1.,  31., 176.],\n",
              "       [213.,  41.,  12., 201.],\n",
              "       [214.,   1.,  50., 171.],\n",
              "       [215.,  28.,   3., 191.],\n",
              "       [216.,   2.,   9.,  11.],\n",
              "       [217.,  22.,  53., 211.],\n",
              "       [218.,  29.,  49., 225.],\n",
              "       [219.,   1.,  21., 290.],\n",
              "       [220.,  25.,  14., 101.],\n",
              "       [221., 102.,  50., 470.],\n",
              "       [222.,   0.,  22., 165.],\n",
              "       [223.,  27.,   0., 192.],\n",
              "       [224.,  40.,   0., 213.]])"
            ]
          },
          "metadata": {
            "tags": []
          },
          "execution_count": 10
        }
      ]
    },
    {
      "cell_type": "code",
      "metadata": {
        "colab": {
          "base_uri": "https://localhost:8080/"
        },
        "id": "cwsp3Kmqulce",
        "outputId": "78488f33-7337-4e5b-f1e1-cf19677f38e1"
      },
      "source": [
        "cric_data.shape"
      ],
      "execution_count": null,
      "outputs": [
        {
          "output_type": "execute_result",
          "data": {
            "text/plain": [
              "(225, 4)"
            ]
          },
          "metadata": {
            "tags": []
          },
          "execution_count": 11
        }
      ]
    },
    {
      "cell_type": "markdown",
      "metadata": {
        "id": "Bm0Ol-ULxSIw"
      },
      "source": [
        "Question 1: Find the mean, median for Sachin, Rahul, India"
      ]
    },
    {
      "cell_type": "code",
      "metadata": {
        "id": "aCrGXBEfvbvd"
      },
      "source": [
        "cric_data = cric_data[:, [1, 2, 3]]"
      ],
      "execution_count": null,
      "outputs": []
    },
    {
      "cell_type": "code",
      "metadata": {
        "colab": {
          "base_uri": "https://localhost:8080/"
        },
        "id": "v43no0NjviD8",
        "outputId": "6f20ab82-e954-4252-9868-7a49abc1087d"
      },
      "source": [
        "cric_data.shape"
      ],
      "execution_count": null,
      "outputs": [
        {
          "output_type": "execute_result",
          "data": {
            "text/plain": [
              "(225, 3)"
            ]
          },
          "metadata": {
            "tags": []
          },
          "execution_count": 13
        }
      ]
    },
    {
      "cell_type": "code",
      "metadata": {
        "id": "CdUcCnWnvmkS"
      },
      "source": [
        "sachin = cric_data[:, 0]\n",
        "rahul = cric_data[:, 1]\n",
        "india = cric_data[:, 2]"
      ],
      "execution_count": null,
      "outputs": []
    },
    {
      "cell_type": "code",
      "metadata": {
        "colab": {
          "base_uri": "https://localhost:8080/"
        },
        "id": "Ci_76WlivrPJ",
        "outputId": "e470f158-a400-4179-c8dd-8201f678bab5"
      },
      "source": [
        "sachin.shape"
      ],
      "execution_count": null,
      "outputs": [
        {
          "output_type": "execute_result",
          "data": {
            "text/plain": [
              "(225,)"
            ]
          },
          "metadata": {
            "tags": []
          },
          "execution_count": 16
        }
      ]
    },
    {
      "cell_type": "code",
      "metadata": {
        "id": "7f_Y9Bsrv-ku"
      },
      "source": [
        "def stats(col):\n",
        "  print('Mean', np.mean(col))\n",
        "  print('Median', np.median(col))"
      ],
      "execution_count": null,
      "outputs": []
    },
    {
      "cell_type": "code",
      "metadata": {
        "colab": {
          "base_uri": "https://localhost:8080/"
        },
        "id": "weC2ejZfws31",
        "outputId": "ab11228a-8778-42e0-a08f-78cc7b765c24"
      },
      "source": [
        "stats(sachin)"
      ],
      "execution_count": null,
      "outputs": [
        {
          "output_type": "stream",
          "text": [
            "Mean 39.87555555555556\n",
            "Median 27.0\n"
          ],
          "name": "stdout"
        }
      ]
    },
    {
      "cell_type": "code",
      "metadata": {
        "colab": {
          "base_uri": "https://localhost:8080/"
        },
        "id": "B7UIjTakwvYE",
        "outputId": "e4b4ef08-d95b-427b-9b99-283a45b2fcfd"
      },
      "source": [
        "stats(rahul)"
      ],
      "execution_count": null,
      "outputs": [
        {
          "output_type": "stream",
          "text": [
            "Mean 32.062222222222225\n",
            "Median 22.0\n"
          ],
          "name": "stdout"
        }
      ]
    },
    {
      "cell_type": "code",
      "metadata": {
        "colab": {
          "base_uri": "https://localhost:8080/"
        },
        "id": "O5s-gVnrwxf4",
        "outputId": "fd9ea837-5c08-4dcc-c69c-9cfdb737e682"
      },
      "source": [
        "stats(india)"
      ],
      "execution_count": null,
      "outputs": [
        {
          "output_type": "stream",
          "text": [
            "Mean 220.79555555555555\n",
            "Median 216.0\n"
          ],
          "name": "stdout"
        }
      ]
    },
    {
      "cell_type": "code",
      "metadata": {
        "colab": {
          "base_uri": "https://localhost:8080/"
        },
        "id": "-XZbVuImw0o-",
        "outputId": "0f0e4153-4528-4ce3-b901-aefeaad72e8d"
      },
      "source": [
        "np.mean(cric_data, axis=0)\n",
        "        "
      ],
      "execution_count": null,
      "outputs": [
        {
          "output_type": "execute_result",
          "data": {
            "text/plain": [
              "array([ 39.87555556,  32.06222222, 220.79555556])"
            ]
          },
          "metadata": {
            "tags": []
          },
          "execution_count": 21
        }
      ]
    },
    {
      "cell_type": "markdown",
      "metadata": {
        "id": "xqcmyR8nxUd7"
      },
      "source": [
        "### Question 2: Find histogram of Sachin's scores with 10 bins"
      ]
    },
    {
      "cell_type": "code",
      "metadata": {
        "colab": {
          "base_uri": "https://localhost:8080/"
        },
        "id": "TmwCPi-lxCsn",
        "outputId": "a4886661-959a-4f77-f26b-05172b68c007"
      },
      "source": [
        "np.histogram(sachin)"
      ],
      "execution_count": null,
      "outputs": [
        {
          "output_type": "execute_result",
          "data": {
            "text/plain": [
              "(array([99, 36, 28, 16, 11, 17,  8,  8,  1,  1]),\n",
              " array([  0. ,  18.6,  37.2,  55.8,  74.4,  93. , 111.6, 130.2, 148.8,\n",
              "        167.4, 186. ]))"
            ]
          },
          "metadata": {
            "tags": []
          },
          "execution_count": 22
        }
      ]
    },
    {
      "cell_type": "markdown",
      "metadata": {
        "id": "5wsP9C_YzziD"
      },
      "source": [
        "Question 3: find mean of sachin's scores grouped by 25 matches"
      ]
    },
    {
      "cell_type": "code",
      "metadata": {
        "id": "EHAPwkKfzARn"
      },
      "source": [
        "sachin25 = sachin.reshape(9, 25)"
      ],
      "execution_count": null,
      "outputs": []
    },
    {
      "cell_type": "code",
      "metadata": {
        "colab": {
          "base_uri": "https://localhost:8080/"
        },
        "id": "vGOBKaKP0BMZ",
        "outputId": "1c8cc7b8-da82-4d25-bc41-25647a231a7a"
      },
      "source": [
        "sachin25.shape"
      ],
      "execution_count": null,
      "outputs": [
        {
          "output_type": "execute_result",
          "data": {
            "text/plain": [
              "(9, 25)"
            ]
          },
          "metadata": {
            "tags": []
          },
          "execution_count": 24
        }
      ]
    },
    {
      "cell_type": "code",
      "metadata": {
        "colab": {
          "base_uri": "https://localhost:8080/"
        },
        "id": "jYsRbyw80EuJ",
        "outputId": "176bd32b-111e-4ace-ec7b-fafc879c3b63"
      },
      "source": [
        "np.mean(sachin25, axis=1)"
      ],
      "execution_count": null,
      "outputs": [
        {
          "output_type": "execute_result",
          "data": {
            "text/plain": [
              "array([33.96, 49.4 , 38.48, 40.16, 39.36, 38.2 , 44.6 , 39.52, 35.2 ])"
            ]
          },
          "metadata": {
            "tags": []
          },
          "execution_count": 25
        }
      ]
    },
    {
      "cell_type": "markdown",
      "metadata": {
        "id": "kK2bn5RW0WZk"
      },
      "source": [
        "Question 4: Find mean of Sachin's scores where he has scored a century"
      ]
    },
    {
      "cell_type": "code",
      "metadata": {
        "colab": {
          "base_uri": "https://localhost:8080/"
        },
        "id": "oLqlR_s00Mw7",
        "outputId": "3b3c18bc-c4fe-4064-9628-4fd846b7c767"
      },
      "source": [
        "sachin >= 100"
      ],
      "execution_count": null,
      "outputs": [
        {
          "output_type": "execute_result",
          "data": {
            "text/plain": [
              "array([ True, False, False, False,  True, False, False, False, False,\n",
              "       False, False, False, False, False, False, False, False, False,\n",
              "       False, False, False, False,  True, False, False, False, False,\n",
              "       False, False, False,  True, False, False, False, False, False,\n",
              "       False,  True, False, False, False, False, False, False,  True,\n",
              "       False, False,  True, False, False, False, False, False, False,\n",
              "       False, False,  True,  True, False, False, False, False, False,\n",
              "       False,  True, False, False, False,  True, False, False, False,\n",
              "       False, False, False, False, False, False, False, False, False,\n",
              "       False, False, False, False, False, False, False, False, False,\n",
              "       False, False, False, False,  True, False, False, False, False,\n",
              "       False, False, False, False, False, False, False, False, False,\n",
              "       False, False, False, False, False, False, False,  True,  True,\n",
              "       False, False, False, False, False, False, False, False, False,\n",
              "       False, False, False, False, False, False, False, False,  True,\n",
              "       False, False, False, False, False, False, False, False, False,\n",
              "       False, False, False, False,  True, False, False, False, False,\n",
              "       False, False, False, False, False, False,  True, False, False,\n",
              "       False, False, False, False,  True, False, False, False, False,\n",
              "       False, False, False, False,  True, False,  True, False, False,\n",
              "       False,  True,  True, False, False, False, False, False, False,\n",
              "       False, False, False, False, False, False, False, False, False,\n",
              "       False, False, False, False, False, False,  True, False, False,\n",
              "       False,  True, False,  True, False, False, False, False, False,\n",
              "       False, False, False, False, False,  True, False, False, False])"
            ]
          },
          "metadata": {
            "tags": []
          },
          "execution_count": 27
        }
      ]
    },
    {
      "cell_type": "code",
      "metadata": {
        "colab": {
          "base_uri": "https://localhost:8080/"
        },
        "id": "YwRYJ3QJ0UUr",
        "outputId": "46071fad-7c9e-4f14-a44f-034a823e3bac"
      },
      "source": [
        "np.mean(sachin[sachin>=100])"
      ],
      "execution_count": null,
      "outputs": [
        {
          "output_type": "execute_result",
          "data": {
            "text/plain": [
              "125.0"
            ]
          },
          "metadata": {
            "tags": []
          },
          "execution_count": 29
        }
      ]
    },
    {
      "cell_type": "markdown",
      "metadata": {
        "id": "TvzyEA0l1Rwq"
      },
      "source": [
        "Question 5: Find mean of Sachin's scores when Rahul has scored less than 10"
      ]
    },
    {
      "cell_type": "code",
      "metadata": {
        "colab": {
          "base_uri": "https://localhost:8080/"
        },
        "id": "ZiY646P7092H",
        "outputId": "7bf09e27-1622-4eca-8564-200a70ecd15e"
      },
      "source": [
        "np.mean(sachin[rahul<10])"
      ],
      "execution_count": null,
      "outputs": [
        {
          "output_type": "execute_result",
          "data": {
            "text/plain": [
              "40.74285714285714"
            ]
          },
          "metadata": {
            "tags": []
          },
          "execution_count": 30
        }
      ]
    },
    {
      "cell_type": "code",
      "metadata": {
        "id": "RwWsRzF11WGP"
      },
      "source": [
        ""
      ],
      "execution_count": null,
      "outputs": []
    }
  ]
}